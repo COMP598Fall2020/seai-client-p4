{
 "cells": [
  {
   "cell_type": "code",
   "execution_count": 39,
   "metadata": {},
   "outputs": [],
   "source": [
    "import re\n",
    "import pandas as pd\n",
    "\n",
    "kstream = open('kstream.log', 'r') \n",
    "\n",
    "df = []\n",
    "\n",
    "for line in kstream:\n",
    "    \n",
    "    info = re.split(',| |/|=|\\n', line)\n",
    "\n",
    "    # info[4] is user id\n",
    "    # info[7] is rate or data\n",
    "    # info[8] is movie title if rate, otherwise if data is info[9]\n",
    "    # info[9] is rating if rate\n",
    "    \n",
    "    if info[7] == 'rate':\n",
    "        df.append([info[4], info[8], info[9]])\n",
    "\n",
    "kstream.close()\n",
    "        \n",
    "df = pd.DataFrame(df, columns= ['userID', 'movie','rating'])\n",
    "\n",
    "df.to_csv('ratings_data.csv', index = False, header = True, encoding=\"utf-8\")\n"
   ]
  },
  {
   "cell_type": "code",
   "execution_count": null,
   "metadata": {},
   "outputs": [],
   "source": []
  },
  {
   "cell_type": "code",
   "execution_count": null,
   "metadata": {},
   "outputs": [],
   "source": []
  }
 ],
 "metadata": {
  "kernelspec": {
   "display_name": "Python 3",
   "language": "python",
   "name": "python3"
  },
  "language_info": {
   "codemirror_mode": {
    "name": "ipython",
    "version": 3
   },
   "file_extension": ".py",
   "mimetype": "text/x-python",
   "name": "python",
   "nbconvert_exporter": "python",
   "pygments_lexer": "ipython3",
   "version": "3.7.2"
  }
 },
 "nbformat": 4,
 "nbformat_minor": 4
}
